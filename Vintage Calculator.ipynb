{
 "cells": [
  {
   "cell_type": "code",
   "execution_count": 1,
   "id": "bf19ce4b",
   "metadata": {},
   "outputs": [
    {
     "name": "stdout",
     "output_type": "stream",
     "text": [
      "Welcome to 1955 Calculator\n",
      "What operation do you want to choose?\n",
      "1. Add\n",
      "2. Subtract\n",
      "3. Multiply\n",
      "4. Divide\n",
      "5. Power\n",
      "\n",
      "Select your operation - 1,2,3,4,5\n",
      "5\n",
      "The first number you enter is base and second number is exponential\n",
      "Enter first number: 2\n",
      "Enter second number: 9\n",
      "2 ^ 9 = 512\n"
     ]
    }
   ],
   "source": [
    "print(\"Welcome to 1955 Calculator\")\n",
    "\n",
    "\n",
    "def add(num1, num2):\n",
    "    return num1 + num2\n",
    "    \n",
    "def subtract(num1, num2):\n",
    "    return num1 - num2\n",
    "\n",
    "def multiply(num1, num2):\n",
    "    return num1 * num2\n",
    "\n",
    "def divide(num1, num2):\n",
    "    return num1 / num2\n",
    "\n",
    "def power(num1, num2):\n",
    "  if num2 == 0:\n",
    "        return 1\n",
    "  elif num2 == 1:\n",
    "        return num1\n",
    "  else:\n",
    "        return (num1*power(num1, num2-1))\n",
    "  \n",
    "print(\"What operation do you want to choose?\\n\"\n",
    "        \"1. Add\\n\"\n",
    "        \"2. Subtract\\n\"\n",
    "        \"3. Multiply\\n\"\n",
    "        \"4. Divide\\n\"\n",
    "        \"5. Power\\n\")\n",
    "\n",
    "  \n",
    "choice = int(input(\"Select your operation - 1,2,3,4,5\\n\"))\n",
    "  \n",
    "if choice == 1:\n",
    "    first_num = int(input(\"Enter first number: \"))\n",
    "    second_num = int(input(\"Enter second number: \"))\n",
    "    print(first_num, \"+\", second_num, \"=\", add(first_num, second_num))\n",
    "  \n",
    "elif choice == 2:\n",
    "    first_num = int(input(\"Enter first number: \"))\n",
    "    second_num = int(input(\"Enter second number: \"))\n",
    "    print(first_num, \"-\", second_num, \"=\", subtract(first_num, second_num))\n",
    "  \n",
    "elif choice == 3:\n",
    "    first_num = int(input(\"Enter first number: \"))\n",
    "    second_num = int(input(\"Enter second number: \"))\n",
    "    print(first_num, \"*\", second_num, \"=\", multiply(first_num, second_num))\n",
    "  \n",
    "elif choice == 4:\n",
    "    first_num = int(input(\"Enter first number: \"))\n",
    "    second_num = int(input(\"Enter second number: \"))\n",
    "    print(first_num, \"/\", second_num, \"=\", divide(first_num, second_num))\n",
    "\n",
    "elif choice == 5:\n",
    "    print(\"The first number you enter is base and second number is exponential\")\n",
    "    first_num = int(input(\"Enter first number: \"))\n",
    "    second_num = int(input(\"Enter second number: \"))\n",
    "    print(first_num, \"^\", second_num, \"=\", power(first_num, second_num))\n",
    "\n",
    "else:\n",
    "    print(\"Invalid input\")"
   ]
  },
  {
   "cell_type": "code",
   "execution_count": null,
   "id": "1e64d3ee",
   "metadata": {},
   "outputs": [],
   "source": []
  },
  {
   "cell_type": "code",
   "execution_count": null,
   "id": "962fc25a",
   "metadata": {},
   "outputs": [],
   "source": []
  }
 ],
 "metadata": {
  "kernelspec": {
   "display_name": "Python 3 (ipykernel)",
   "language": "python",
   "name": "python3"
  },
  "language_info": {
   "codemirror_mode": {
    "name": "ipython",
    "version": 3
   },
   "file_extension": ".py",
   "mimetype": "text/x-python",
   "name": "python",
   "nbconvert_exporter": "python",
   "pygments_lexer": "ipython3",
   "version": "3.9.7"
  }
 },
 "nbformat": 4,
 "nbformat_minor": 5
}
